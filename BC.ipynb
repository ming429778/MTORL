{
 "cells": [
  {
   "cell_type": "code",
   "execution_count": 1,
   "metadata": {},
   "outputs": [
    {
     "name": "stdout",
     "output_type": "stream",
     "text": [
      "Running on the GPU\n"
     ]
    }
   ],
   "source": [
    "import torch\n",
    "if torch.cuda.is_available():\n",
    "    device = torch.device(\"cuda\")  # you can continue going on here, like cuda:1 cuda:2....etc. \n",
    "    print(\"Running on the GPU\")\n",
    "else:\n",
    "    device = torch.device(\"cpu\")\n",
    "    print(\"Running on the CPU\")\n",
    "# torch.cuda.device_count()"
   ]
  },
  {
   "cell_type": "code",
   "execution_count": 2,
   "metadata": {},
   "outputs": [],
   "source": [
    "import pandas as pd\n",
    "import numpy as np\n",
    "\n",
    "data = pd.read_csv('kuairand_sequence.csv',index_col=0)\n",
    "# data['user_id'].value_counts()"
   ]
  },
  {
   "cell_type": "code",
   "execution_count": 3,
   "metadata": {},
   "outputs": [
    {
     "name": "stdout",
     "output_type": "stream",
     "text": [
      "27\n"
     ]
    }
   ],
   "source": [
    "import torch\n",
    "import matplotlib.pyplot as plt\n",
    "import torch.nn as nn\n",
    "import torch.nn.functional as F\n",
    "import random\n",
    "from torch.utils.data import Dataset, DataLoader,TensorDataset\n",
    "\n",
    "max_length = 100\n",
    "num_user = len(data['user_id'].unique())\n",
    "state_feature = len(data.columns) - 1\n",
    "action_feature = 3\n",
    "\n",
    "uid = data['user_id'].unique()\n",
    "uid\n",
    "print(state_feature)"
   ]
  },
  {
   "cell_type": "code",
   "execution_count": 4,
   "metadata": {},
   "outputs": [
    {
     "name": "stdout",
     "output_type": "stream",
     "text": [
      "6269\n",
      "6269\n"
     ]
    }
   ],
   "source": [
    "State = np.zeros(((num_user,max_length,state_feature)))\n",
    "Action = np.zeros((num_user,max_length,action_feature))\n",
    "# print(Action)\n",
    "# conversion = np.array(conversion_one_hot)\n",
    "\n",
    "j = 0\n",
    "for i in uid:\n",
    "    state_sequence = np.array(data[data['user_id']==i])[:-1]\n",
    "    # state_sequence = np.array(data[data['user_id']==i].drop(['short','mid','long'],axis=1))\n",
    "    action_sequence = np.array(data[data['user_id']==i][['short','mid','long']])[1:]\n",
    "    # action_sequence = np.array(data[data['user_id']==i][['short','mid','long']])\n",
    "    # print(action_sequence)\n",
    "    state = np.pad(state_sequence,((0,max_length-len(state_sequence)),(0,0)))[:,1:]\n",
    "    action = np.pad(action_sequence,((0,max_length-len(action_sequence)),(0,0)))\n",
    "    State[j] = state\n",
    "    Action[j] = action\n",
    "    j += 1\n",
    "print(len(State))\n",
    "print(len(Action))"
   ]
  },
  {
   "cell_type": "code",
   "execution_count": 39,
   "metadata": {},
   "outputs": [
    {
     "name": "stdout",
     "output_type": "stream",
     "text": [
      "80000\n",
      "80000\n"
     ]
    }
   ],
   "source": [
    "# print(len(con_X))\n",
    "# print(len(non_X))\n",
    "length = 1\n",
    "max_number_traj = 80000\n",
    "# number_traj = 10000\n",
    "number_traj = 0\n",
    "def Select_trajectory(X,Y,number_traj):\n",
    "    Select_states = []\n",
    "    Select_actions = []\n",
    "    # for s in range(number_traj):\n",
    "    while True:\n",
    "        i = random.randint(0,len(X)-1)\n",
    "        select_state = X[i]\n",
    "        select_action = Y[i]\n",
    "        # print(select_state)\n",
    "        # print(select_action)\n",
    "        for k in range(0,max_length):\n",
    "            # print(select_episode[k])\n",
    "            if select_state[k].any() == 0:\n",
    "                max_episode_length = k\n",
    "                break\n",
    "        # print(k)\n",
    "        # print(max_episode_length)\n",
    "        if max_episode_length >= length + 1:\n",
    "            j = random.randint(0,max_episode_length-length-1)\n",
    "            select_state = select_state[j:j+length]\n",
    "            select_action = select_action[j:j+length]\n",
    "            Select_states.append(select_state)\n",
    "            Select_actions.append(select_action)\n",
    "            number_traj += 1\n",
    "        # print(select_trajectory)\n",
    "        if number_traj == max_number_traj:\n",
    "            break\n",
    "    return np.array(Select_states),np.array(Select_actions)\n",
    "\n",
    "X , Y = Select_trajectory(State,Action,number_traj)\n",
    "print(len(X))\n",
    "# Y = np.concatenate((con_Y , non_Y),axis=0)\n",
    "print(len(Y))"
   ]
  },
  {
   "cell_type": "code",
   "execution_count": 40,
   "metadata": {},
   "outputs": [],
   "source": [
    "np.random.seed(2023)\n",
    "per = np.random.permutation(X.shape[0])\n",
    "# print(per)\n",
    "X = X[per]\n",
    "Y = Y[per]\n",
    "# print(sum(Y))"
   ]
  },
  {
   "cell_type": "code",
   "execution_count": 41,
   "metadata": {},
   "outputs": [
    {
     "data": {
      "text/plain": [
       "True"
      ]
     },
     "execution_count": 41,
     "metadata": {},
     "output_type": "execute_result"
    }
   ],
   "source": [
    "np.array([0.5,0,0]).any()"
   ]
  },
  {
   "cell_type": "code",
   "execution_count": 42,
   "metadata": {},
   "outputs": [
    {
     "name": "stdout",
     "output_type": "stream",
     "text": [
      "64000\n",
      "(tensor([[0.6522, 0.5555, 0.0000, 0.0000, 0.0020, 0.0000, 1.0000, 0.0000, 0.0000,\n",
      "         0.0000, 0.0000, 0.0000, 0.0000, 0.0000, 0.0000, 1.0000, 0.0000, 1.0000,\n",
      "         0.3333, 0.2041, 0.1367, 0.0000, 0.0000, 0.2564, 0.3311, 0.1667, 1.0000]],\n",
      "       device='cuda:0'), tensor([[1., 0., 0.]], device='cuda:0'))\n"
     ]
    }
   ],
   "source": [
    "def split_data(X,Y,timestep, input_size, output_size):\n",
    "    # dataX = []\n",
    "    # dataY = []\n",
    "\n",
    "    # for traj_index in range(number_traj):\n",
    "    #     X = []\n",
    "    #     Y = []\n",
    "    #     for index in range(length):\n",
    "    #     # dataX.append(data[index: index + timestep][:, 0])\n",
    "    #     # dataY.append(data[index + timestep][0])\n",
    "    #         X.append(data[traj_index][6 * index : 6 * index + 6])\n",
    "    #         Y.append(data[traj_index][6 * index + 6])\n",
    "    #     dataX.append(X)\n",
    "    #     dataY.append(Y)\n",
    "    # dataX = np.array(dataX)\n",
    "    # dataY = np.array(dataY)\n",
    "\n",
    "    train_size = int(np.round(0.8 * X.shape[0]))\n",
    "    print(train_size)\n",
    "\n",
    "    # x_train = dataX[: train_size, :].reshape(-1, timestep,input_size)\n",
    "    # y_train = dataY[: train_size].reshape(-1,timestep, 1)\n",
    "    \n",
    "    # x_test = dataX[train_size:, :].reshape(-1,timestep, input_size)\n",
    "    # y_test = dataY[train_size:].reshape(-1,timestep, 1)\n",
    "\n",
    "    x_train = X[: train_size, :].reshape(-1, timestep,input_size)\n",
    "    y_train = Y[: train_size].reshape(-1,timestep, output_size) \n",
    "\n",
    "    x_test = X[train_size:, :].reshape(-1, timestep,input_size)\n",
    "    y_test = Y[train_size:].reshape(-1,timestep, output_size)\n",
    "\n",
    "    return [x_train, y_train, x_test, y_test]\n",
    "X1,Y1,X2,Y2=split_data(X,Y,length,state_feature,action_feature)\n",
    "\n",
    "# print(len(X2))\n",
    "# print(len(X2))\n",
    "X1,Y1=torch.from_numpy(X1).to(torch.float32).to(device),torch.from_numpy(Y1).to(torch.float32).to(device)\n",
    "# print(Y2)\n",
    "X2,Y2=torch.from_numpy(X2).to(torch.float32).to(device),torch.from_numpy(Y2).to(torch.float32).to(device)\n",
    "# X,Y=torch.from_numpy(X).to(torch.float32),torch.from_numpy(Y).to(torch.float32)\n",
    "train_ids = TensorDataset(X1,Y1)\n",
    "test_ids = TensorDataset(X2,Y2)\n",
    "# data_ids = TensorDataset(X,Y)\n",
    "# print(train_ids[12])\n",
    "print(test_ids[0])"
   ]
  },
  {
   "cell_type": "code",
   "execution_count": 43,
   "metadata": {},
   "outputs": [
    {
     "name": "stdout",
     "output_type": "stream",
     "text": [
      "torch.Size([64000, 1, 27])\n"
     ]
    }
   ],
   "source": [
    "print(X1.shape)"
   ]
  },
  {
   "cell_type": "code",
   "execution_count": 46,
   "metadata": {},
   "outputs": [],
   "source": [
    "class MLP(torch.nn.Module):\n",
    "    def __init__(self, feature_size, hidden_size, output_size):\n",
    "        # super().__init__(state_dim, act_dim, max_length=max_length)\n",
    "        super(MLP,self).__init__()\n",
    "        self.softmax = nn.Softmax(dim=-1)\n",
    "        self.sigmoid = nn.Sigmoid()\n",
    "        self.fc1 = nn.Linear(feature_size, hidden_size)\n",
    "        self.hidden = nn.Linear(hidden_size, hidden_size)\n",
    "        self.fc2 = nn.Linear(hidden_size, output_size)\n",
    "        self.relu = nn.ReLU()\n",
    "        self.LeakyReLU = nn.LeakyReLU()\n",
    "        self.dropout = nn.Dropout(p=0.2)\n",
    "    def forward(self, x):\n",
    "        x = self.fc1(x)\n",
    "        # x = self.dropout(x)\n",
    "        x = self.LeakyReLU(x)     \n",
    "        x = self.hidden(x)\n",
    "        x = self.LeakyReLU(x)\n",
    "        x = self.hidden(x)\n",
    "        # x = self.dropout(x)\n",
    "        x = self.LeakyReLU(x)\n",
    "        x = self.fc2(x)           \n",
    "        # x = self.softmax(x)\n",
    "        x = F.softmax(x,dim=2)\n",
    "        return x"
   ]
  },
  {
   "cell_type": "code",
   "execution_count": 47,
   "metadata": {},
   "outputs": [
    {
     "name": "stdout",
     "output_type": "stream",
     "text": [
      "tensor([[[0.2516, 0.3610, 0.3874],\n",
      "         [0.2516, 0.3611, 0.3873],\n",
      "         [0.2516, 0.3613, 0.3871],\n",
      "         [0.2516, 0.3610, 0.3874],\n",
      "         [0.2516, 0.3609, 0.3875]]], device='cuda:0',\n",
      "       grad_fn=<SoftmaxBackward0>)\n"
     ]
    }
   ],
   "source": [
    "X = torch.rand(1,5,3).to(device)\n",
    "Net = MLP(3,5,3).to(device)\n",
    "Net\n",
    "print(Net(X))"
   ]
  },
  {
   "cell_type": "code",
   "execution_count": 48,
   "metadata": {},
   "outputs": [],
   "source": [
    "Batchsize = 512\n",
    "# data_train_loader = DataLoader(dataset=train_ids, batch_size=Batchsize, shuffle=True)\n",
    "data_train_loader = DataLoader(dataset=train_ids, batch_size=Batchsize, shuffle=False)\n",
    "data_test_loader = DataLoader(dataset=test_ids, batch_size=1, shuffle=False,drop_last=False)\n",
    "# data_full_loader = DataLoader(dataset=data_ids, batch_size=1, shuffle=True)\n"
   ]
  },
  {
   "cell_type": "code",
   "execution_count": 49,
   "metadata": {},
   "outputs": [
    {
     "name": "stdout",
     "output_type": "stream",
     "text": [
      "Loss of episode 0 = 0.22403915\n",
      "Loss of episode 1 = 0.22390714\n",
      "Loss of episode 2 = 0.2237481\n",
      "Loss of episode 3 = 0.22345045\n",
      "Loss of episode 4 = 0.22297457\n",
      "Loss of episode 5 = 0.22227372\n",
      "Loss of episode 6 = 0.22125554\n",
      "Loss of episode 7 = 0.2198283\n",
      "Loss of episode 8 = 0.21793224\n",
      "Loss of episode 9 = 0.21555623\n",
      "Loss of episode 10 = 0.21247943\n",
      "Loss of episode 11 = 0.20884413\n",
      "Loss of episode 12 = 0.20497023\n",
      "Loss of episode 13 = 0.20065372\n",
      "Loss of episode 14 = 0.19648279\n",
      "Loss of episode 15 = 0.19219653\n",
      "Loss of episode 16 = 0.18812454\n",
      "Loss of episode 17 = 0.18423101\n",
      "Loss of episode 18 = 0.18044879\n",
      "Loss of episode 19 = 0.17728887\n",
      "Loss of episode 20 = 0.17437503\n",
      "Loss of episode 21 = 0.17182884\n",
      "Loss of episode 22 = 0.16953452\n",
      "Loss of episode 23 = 0.16665435\n",
      "Loss of episode 24 = 0.16435014\n",
      "Loss of episode 25 = 0.16189373\n",
      "Loss of episode 26 = 0.15963036\n",
      "Loss of episode 27 = 0.15748814\n",
      "Loss of episode 28 = 0.15532894\n",
      "Loss of episode 29 = 0.15270907\n",
      "Loss of episode 30 = 0.15028265\n",
      "Loss of episode 31 = 0.14734098\n",
      "Loss of episode 32 = 0.14447194\n",
      "Loss of episode 33 = 0.14220028\n",
      "Loss of episode 34 = 0.14028758\n",
      "Loss of episode 35 = 0.13882951\n",
      "Loss of episode 36 = 0.13754998\n",
      "Loss of episode 37 = 0.13602306\n",
      "Loss of episode 38 = 0.13357645\n",
      "Loss of episode 39 = 0.13071916\n",
      "Loss of episode 40 = 0.1282645\n",
      "Loss of episode 41 = 0.12686695\n",
      "Loss of episode 42 = 0.12611875\n",
      "Loss of episode 43 = 0.1252921\n",
      "Loss of episode 44 = 0.12431706\n",
      "Loss of episode 45 = 0.12354176\n",
      "Loss of episode 46 = 0.12210739\n",
      "Loss of episode 47 = 0.12066151\n",
      "Loss of episode 48 = 0.12046089\n",
      "Loss of episode 49 = 0.120668255\n",
      "Loss of episode 50 = 0.11795705\n",
      "Loss of episode 51 = 0.114444435\n",
      "Loss of episode 52 = 0.11183526\n",
      "Loss of episode 53 = 0.11045824\n",
      "Loss of episode 54 = 0.10998707\n",
      "Loss of episode 55 = 0.11124036\n",
      "Loss of episode 56 = 0.11141773\n",
      "Loss of episode 57 = 0.10779213\n",
      "Loss of episode 58 = 0.10396805\n",
      "Loss of episode 59 = 0.101268806\n",
      "Loss of episode 60 = 0.098287195\n",
      "Loss of episode 61 = 0.09677352\n",
      "Loss of episode 62 = 0.095559314\n",
      "Loss of episode 63 = 0.09490049\n",
      "Loss of episode 64 = 0.09367006\n",
      "Loss of episode 65 = 0.09179296\n",
      "Loss of episode 66 = 0.091036394\n",
      "Loss of episode 67 = 0.08932645\n",
      "Loss of episode 68 = 0.08918707\n",
      "Loss of episode 69 = 0.08961756\n",
      "Loss of episode 70 = 0.09009924\n",
      "Loss of episode 71 = 0.08992677\n",
      "Loss of episode 72 = 0.08845328\n",
      "Loss of episode 73 = 0.08664332\n",
      "Loss of episode 74 = 0.08599941\n",
      "Loss of episode 75 = 0.08490903\n",
      "Loss of episode 76 = 0.08393213\n",
      "Loss of episode 77 = 0.0843695\n",
      "Loss of episode 78 = 0.084752746\n",
      "Loss of episode 79 = 0.08416477\n",
      "Loss of episode 80 = 0.08385336\n",
      "Loss of episode 81 = 0.082636446\n",
      "Loss of episode 82 = 0.080176756\n",
      "Loss of episode 83 = 0.078742005\n",
      "Loss of episode 84 = 0.0780445\n",
      "Loss of episode 85 = 0.0777702\n",
      "Loss of episode 86 = 0.076011516\n",
      "Loss of episode 87 = 0.07549191\n",
      "Loss of episode 88 = 0.07509485\n",
      "Loss of episode 89 = 0.07491204\n",
      "Loss of episode 90 = 0.07506362\n",
      "Loss of episode 91 = 0.07653504\n",
      "Loss of episode 92 = 0.07649239\n",
      "Loss of episode 93 = 0.07678485\n",
      "Loss of episode 94 = 0.07649046\n",
      "Loss of episode 95 = 0.07587209\n",
      "Loss of episode 96 = 0.07510028\n",
      "Loss of episode 97 = 0.07434798\n",
      "Loss of episode 98 = 0.07317996\n",
      "Loss of episode 99 = 0.07186106\n",
      "Loss of episode 100 = 0.06996609\n",
      "Loss of episode 101 = 0.06860935\n",
      "Loss of episode 102 = 0.067698\n",
      "Loss of episode 103 = 0.06760535\n",
      "Loss of episode 104 = 0.06802911\n",
      "Loss of episode 105 = 0.06708809\n",
      "Loss of episode 106 = 0.06655308\n",
      "Loss of episode 107 = 0.0657985\n",
      "Loss of episode 108 = 0.0656507\n",
      "Loss of episode 109 = 0.06529783\n",
      "Loss of episode 110 = 0.06532213\n",
      "Loss of episode 111 = 0.06528329\n",
      "Loss of episode 112 = 0.0653423\n",
      "Loss of episode 113 = 0.06608536\n",
      "Loss of episode 114 = 0.066364035\n",
      "Loss of episode 115 = 0.0649248\n",
      "Loss of episode 116 = 0.063777946\n",
      "Loss of episode 117 = 0.06167953\n",
      "Loss of episode 118 = 0.05998138\n",
      "Loss of episode 119 = 0.058652468\n",
      "Loss of episode 120 = 0.05817721\n",
      "Loss of episode 121 = 0.058052417\n",
      "Loss of episode 122 = 0.058000375\n",
      "Loss of episode 123 = 0.058322765\n",
      "Loss of episode 124 = 0.05881244\n",
      "Loss of episode 125 = 0.059076265\n",
      "Loss of episode 126 = 0.05965418\n",
      "Loss of episode 127 = 0.060779747\n",
      "Loss of episode 128 = 0.061407167\n",
      "Loss of episode 129 = 0.061653495\n",
      "Loss of episode 130 = 0.05981009\n",
      "Loss of episode 131 = 0.05831551\n",
      "Loss of episode 132 = 0.057457417\n",
      "Loss of episode 133 = 0.056472495\n",
      "Loss of episode 134 = 0.056464214\n",
      "Loss of episode 135 = 0.056554195\n",
      "Loss of episode 136 = 0.0562109\n",
      "Loss of episode 137 = 0.05703397\n",
      "Loss of episode 138 = 0.05679053\n",
      "Loss of episode 139 = 0.056141973\n",
      "Loss of episode 140 = 0.05571821\n",
      "Loss of episode 141 = 0.055145036\n",
      "Loss of episode 142 = 0.054727875\n",
      "Loss of episode 143 = 0.05495235\n",
      "Loss of episode 144 = 0.055088613\n",
      "Loss of episode 145 = 0.05539085\n",
      "Loss of episode 146 = 0.05558923\n",
      "Loss of episode 147 = 0.055654652\n",
      "Loss of episode 148 = 0.055802774\n",
      "Loss of episode 149 = 0.055630963\n",
      "Loss of episode 150 = 0.055458855\n",
      "Loss of episode 151 = 0.054803826\n",
      "Loss of episode 152 = 0.053852856\n",
      "Loss of episode 153 = 0.054014094\n",
      "Loss of episode 154 = 0.05377605\n",
      "Loss of episode 155 = 0.05414182\n",
      "Loss of episode 156 = 0.05443862\n",
      "Loss of episode 157 = 0.053929802\n",
      "Loss of episode 158 = 0.054200247\n",
      "Loss of episode 159 = 0.054140788\n",
      "Loss of episode 160 = 0.054746054\n",
      "Loss of episode 161 = 0.05493527\n",
      "Loss of episode 162 = 0.053878944\n",
      "Loss of episode 163 = 0.054283734\n",
      "Loss of episode 164 = 0.053973168\n",
      "Loss of episode 165 = 0.053998895\n",
      "Loss of episode 166 = 0.053197276\n",
      "Loss of episode 167 = 0.05347168\n",
      "Loss of episode 168 = 0.052640356\n",
      "Loss of episode 169 = 0.052331716\n",
      "Loss of episode 170 = 0.05159987\n",
      "Loss of episode 171 = 0.051039048\n",
      "Loss of episode 172 = 0.050074946\n",
      "Loss of episode 173 = 0.050465137\n",
      "Loss of episode 174 = 0.05011834\n",
      "Loss of episode 175 = 0.04920211\n",
      "Loss of episode 176 = 0.048865754\n",
      "Loss of episode 177 = 0.0486111\n",
      "Loss of episode 178 = 0.04775504\n",
      "Loss of episode 179 = 0.047426715\n",
      "Loss of episode 180 = 0.047193352\n",
      "Loss of episode 181 = 0.047500774\n",
      "Loss of episode 182 = 0.047620654\n",
      "Loss of episode 183 = 0.047035746\n",
      "Loss of episode 184 = 0.0471614\n",
      "Loss of episode 185 = 0.04708249\n",
      "Loss of episode 186 = 0.046504598\n",
      "Loss of episode 187 = 0.04627878\n",
      "Loss of episode 188 = 0.046535753\n",
      "Loss of episode 189 = 0.04692424\n",
      "Loss of episode 190 = 0.04604927\n",
      "Loss of episode 191 = 0.045687795\n",
      "Loss of episode 192 = 0.046218168\n",
      "Loss of episode 193 = 0.0458934\n",
      "Loss of episode 194 = 0.046803545\n",
      "Loss of episode 195 = 0.045661703\n",
      "Loss of episode 196 = 0.045619998\n",
      "Loss of episode 197 = 0.045167007\n",
      "Loss of episode 198 = 0.044890106\n",
      "Loss of episode 199 = 0.04545664\n",
      "Loss of episode 200 = 0.045046225\n",
      "Loss of episode 201 = 0.044530068\n",
      "Loss of episode 202 = 0.043595728\n",
      "Loss of episode 203 = 0.04368989\n",
      "Loss of episode 204 = 0.043329354\n",
      "Loss of episode 205 = 0.04357693\n",
      "Loss of episode 206 = 0.04334283\n",
      "Loss of episode 207 = 0.043327853\n",
      "Loss of episode 208 = 0.04304195\n",
      "Loss of episode 209 = 0.042733457\n",
      "Loss of episode 210 = 0.04240194\n",
      "Loss of episode 211 = 0.04222823\n",
      "Loss of episode 212 = 0.042014595\n",
      "Loss of episode 213 = 0.041581143\n",
      "Loss of episode 214 = 0.04197877\n",
      "Loss of episode 215 = 0.042448044\n",
      "Loss of episode 216 = 0.04194303\n",
      "Loss of episode 217 = 0.0414679\n",
      "Loss of episode 218 = 0.04213477\n",
      "Loss of episode 219 = 0.041525774\n",
      "Loss of episode 220 = 0.04205759\n",
      "Loss of episode 221 = 0.042287786\n",
      "Loss of episode 222 = 0.041635502\n",
      "Loss of episode 223 = 0.04075792\n",
      "Loss of episode 224 = 0.040847413\n",
      "Loss of episode 225 = 0.041428674\n",
      "Loss of episode 226 = 0.040987227\n",
      "Loss of episode 227 = 0.040147956\n",
      "Loss of episode 228 = 0.040007923\n",
      "Loss of episode 229 = 0.040103946\n",
      "Loss of episode 230 = 0.04032936\n",
      "Loss of episode 231 = 0.040832818\n",
      "Loss of episode 232 = 0.040227406\n",
      "Loss of episode 233 = 0.040335834\n",
      "Loss of episode 234 = 0.039427217\n",
      "Loss of episode 235 = 0.039760027\n",
      "Loss of episode 236 = 0.04026238\n",
      "Loss of episode 237 = 0.039767966\n",
      "Loss of episode 238 = 0.040038977\n",
      "Loss of episode 239 = 0.040726826\n",
      "Loss of episode 240 = 0.04068749\n",
      "Loss of episode 241 = 0.040125936\n",
      "Loss of episode 242 = 0.03969575\n",
      "Loss of episode 243 = 0.039417468\n",
      "Loss of episode 244 = 0.039856736\n",
      "Loss of episode 245 = 0.04023638\n",
      "Loss of episode 246 = 0.040538285\n",
      "Loss of episode 247 = 0.03995445\n",
      "Loss of episode 248 = 0.040410783\n",
      "Loss of episode 249 = 0.040020768\n",
      "Loss of episode 250 = 0.03941592\n",
      "Loss of episode 251 = 0.04037125\n",
      "Loss of episode 252 = 0.04012419\n",
      "Loss of episode 253 = 0.039771184\n",
      "Loss of episode 254 = 0.039658412\n",
      "Loss of episode 255 = 0.040004242\n",
      "Loss of episode 256 = 0.039344583\n",
      "Loss of episode 257 = 0.039662786\n",
      "Loss of episode 258 = 0.03894922\n",
      "Loss of episode 259 = 0.0394686\n",
      "Loss of episode 260 = 0.039576143\n",
      "Loss of episode 261 = 0.03911209\n",
      "Loss of episode 262 = 0.039289225\n",
      "Loss of episode 263 = 0.039273586\n",
      "Loss of episode 264 = 0.039732184\n",
      "Loss of episode 265 = 0.03971172\n",
      "Loss of episode 266 = 0.03966193\n",
      "Loss of episode 267 = 0.03966881\n",
      "Loss of episode 268 = 0.039711278\n",
      "Loss of episode 269 = 0.038995873\n",
      "Loss of episode 270 = 0.039220676\n",
      "Loss of episode 271 = 0.03910002\n",
      "Loss of episode 272 = 0.039540082\n",
      "Loss of episode 273 = 0.038838353\n",
      "Loss of episode 274 = 0.039873365\n",
      "Loss of episode 275 = 0.039434876\n",
      "Loss of episode 276 = 0.039583888\n",
      "Loss of episode 277 = 0.039899394\n",
      "Loss of episode 278 = 0.03988723\n",
      "Loss of episode 279 = 0.03994424\n",
      "Loss of episode 280 = 0.039736822\n",
      "Loss of episode 281 = 0.039717957\n",
      "Loss of episode 282 = 0.04027994\n",
      "Loss of episode 283 = 0.039482024\n",
      "Loss of episode 284 = 0.03865248\n",
      "Loss of episode 285 = 0.038700573\n",
      "Loss of episode 286 = 0.038984593\n",
      "Loss of episode 287 = 0.03887898\n",
      "Loss of episode 288 = 0.038488828\n",
      "Loss of episode 289 = 0.037620593\n",
      "Loss of episode 290 = 0.03841969\n",
      "Loss of episode 291 = 0.038025305\n",
      "Loss of episode 292 = 0.0386914\n",
      "Loss of episode 293 = 0.037813272\n",
      "Loss of episode 294 = 0.037857067\n",
      "Loss of episode 295 = 0.037812956\n",
      "Loss of episode 296 = 0.037752956\n",
      "Loss of episode 297 = 0.03778436\n",
      "Loss of episode 298 = 0.037056647\n",
      "Loss of episode 299 = 0.037405614\n"
     ]
    },
    {
     "data": {
      "text/plain": [
       "[<matplotlib.lines.Line2D at 0x1d6af481cf0>]"
      ]
     },
     "execution_count": 49,
     "metadata": {},
     "output_type": "execute_result"
    },
    {
     "data": {
      "image/png": "[encoded data removed]",
      "text/plain": [
       "<Figure size 640x480 with 1 Axes>"
      ]
     },
     "metadata": {},
     "output_type": "display_data"
    }
   ],
   "source": [
    "# feature_size, hidden_size, num_layers, output_size\n",
    "# feature_size, hidden_size, output_size\n",
    "Net = MLP(27,512,3).to(device)\n",
    "num_epoch = 300\n",
    "# optimizer = torch.optim.SGD(net.parameters(),lr=0.5)\n",
    "optimizer = torch.optim.Adam(Net.parameters(),lr=0.001)\n",
    "loss_func = torch.nn.MSELoss()\n",
    "# loss_func = torch.nn.CrossEntropyLoss()\n",
    "Loss=[]\n",
    "for t in range(num_epoch):\n",
    "    aver_loss = 0\n",
    "    Net.train()\n",
    "    for batch, data in enumerate(data_train_loader):\n",
    "    # for x,y in data_train_loader:\n",
    "        x, y = data\n",
    "        # print(x.shape)\n",
    "        prediction = Net(x)\n",
    "        # prediction = torch.transpose(prediction, dim0=0, dim1=1)\n",
    "        # print(y[0])\n",
    "        # print(prediction[:,0,:].shape)\n",
    "        # print(y[:,0,:].shape)\n",
    "        loss = loss_func(prediction[:,0,:],y[:,0,:])\n",
    "        \n",
    "        optimizer.zero_grad()\n",
    "        loss.backward()\n",
    "        optimizer.step()\n",
    "        aver_loss += loss\n",
    "    # print('Loss of episode %s ='%t,loss.cpu().data.numpy())\n",
    "    aver_loss /= batch\n",
    "    aver_loss=aver_loss.cpu().detach().numpy()\n",
    "    print('Loss of episode %s ='%t,aver_loss)\n",
    "    # print(t)\n",
    "    Loss.append(aver_loss)\n",
    "    # Loss.append(loss.detach().numpy())\n",
    "plt.plot(Loss,color='r')\n",
    "    # plt.show()\n",
    "    # print(loss)\n",
    "    # if t%5==0:\n",
    "    #     plt.cla()\n",
    "    #     plt.scatter(x.data.numpy(),y.data.numpy())\n",
    "    #     plt.plot(x.data.numpy(),prediction.data.numpy(),'r-',lw=5)\n",
    "    #     plt.text(0.5,0,'Loss=%.4f' % loss.data,fontdict={'size':20,'color':'red'})\n",
    "    #     plt.pause(0.1)\n",
    "# print(gru)"
   ]
  },
  {
   "cell_type": "code",
   "execution_count": 50,
   "metadata": {},
   "outputs": [
    {
     "name": "stdout",
     "output_type": "stream",
     "text": [
      "278531\n"
     ]
    }
   ],
   "source": [
    "from torchsummary import summary\n",
    "from torchvision.models import vgg16\n",
    "device = torch.device(\"cuda\")\n",
    "# myNet = vgg16().to(device)  \n",
    "# summary(myNet, (3, 64, 64)) \n",
    "Net_test = MLP(27,512,3).to(device)\n",
    "# summary(gru_test, (8,11))\n",
    "total = sum([param.nelement() for param in Net_test.parameters()])\n",
    "print(total)\n",
    "# gru_test"
   ]
  },
  {
   "attachments": {},
   "cell_type": "markdown",
   "metadata": {},
   "source": [
    "## Training accuracy"
   ]
  },
  {
   "cell_type": "code",
   "execution_count": 51,
   "metadata": {},
   "outputs": [
    {
     "name": "stdout",
     "output_type": "stream",
     "text": [
      "acc = 0.87821875\n"
     ]
    }
   ],
   "source": [
    "Truth = []\n",
    "Pred = []\n",
    "aver_loss = 0\n",
    "total_acc = 0\n",
    "for batch, data in enumerate(data_train_loader):   \n",
    "# for batch, data in enumerate(data_full_loader):\n",
    "# for x,y in data_train_loader:\n",
    "    x, y = data\n",
    "    # print(x)\n",
    "    # prediction =net(x)\n",
    "    test = Net(x)\n",
    "    # test = torch.transpose(test, dim0=0, dim1=1)\n",
    "    # print(test)\n",
    "    # print(y)\n",
    "    # print(loss.data)\n",
    "    # print(y[0])\n",
    "    # print(test[0])\n",
    "    a = torch.argmax(test,dim = 2).cpu().data.numpy().T[0]\n",
    "    b = torch.argmax(y,dim = 2).cpu().data.numpy().T[0]\n",
    "    # print(a.shape)\n",
    "    # print(b.shape)\n",
    "    # print(a)\n",
    "    # print(sum(a==b))\n",
    "    aver_acc = sum(a==b)\n",
    "    # print(aver_acc)\n",
    "    total_acc += aver_acc\n",
    "    # print(total_acc)\n",
    "    # print(aver_acc)\n",
    "# print(batch)\n",
    "print('acc =', total_acc/(0.8*max_number_traj))\n"
   ]
  },
  {
   "attachments": {},
   "cell_type": "markdown",
   "metadata": {},
   "source": [
    "## Inference accuracy"
   ]
  },
  {
   "cell_type": "code",
   "execution_count": 52,
   "metadata": {},
   "outputs": [
    {
     "name": "stdout",
     "output_type": "stream",
     "text": [
      "acc = 0.586375\n"
     ]
    }
   ],
   "source": [
    "\n",
    "Loss=[]\n",
    "Truth = []\n",
    "Pred = []\n",
    "aver_loss = 0\n",
    "total_acc = 0\n",
    "Net.eval()\n",
    "for batch, data in enumerate(data_test_loader):   \n",
    "    x, y = data\n",
    "    # print(x)\n",
    "    # prediction =net(x)\n",
    "    Net.eval()\n",
    "    test = Net(x)\n",
    "    a = torch.argmax(test,dim = 2).cpu().data.numpy()[0]\n",
    "    b = torch.argmax(y,dim = 2).cpu().data.numpy()[0]\n",
    "    # print('-----------')\n",
    "    # print('pred =',a[0])\n",
    "    # print('true =',b[0])\n",
    "    aver_acc = (a[0]==b[0])\n",
    "    total_acc += aver_acc \n",
    "\n",
    "print('acc =', total_acc/(0.2*max_number_traj))\n",
    "\n"
   ]
  },
  {
   "attachments": {},
   "cell_type": "markdown",
   "metadata": {},
   "source": [
    "## AUC"
   ]
  },
  {
   "cell_type": "code",
   "execution_count": 53,
   "metadata": {},
   "outputs": [
    {
     "name": "stdout",
     "output_type": "stream",
     "text": [
      "step 1 AUC = {0: 0.7279610915182508, 1: 0.7296717852286588, 2: 0.7197705326115019}\n",
      "Average AUC = [0.72796109 0.72967179 0.71977053]\n"
     ]
    }
   ],
   "source": [
    "from sklearn.metrics import precision_score, roc_curve, auc\n",
    "n_classes = 3\n",
    "length = 1\n",
    "# number_traj = 8000\n",
    "aver_auc = np.zeros(n_classes)\n",
    "total_precision = 0\n",
    "Y_score = np.zeros(((length, int(0.2*max_number_traj), n_classes)))\n",
    "# print(Y_score.shape)\n",
    "Y_label = np.zeros(((length, int(0.2*max_number_traj), n_classes)))\n",
    "for batch, data in enumerate(data_test_loader):   \n",
    "    x, y = data\n",
    "    # print(x)\n",
    "    Net.eval()\n",
    "    test = Net(x)\n",
    "    y_score = test[0].cpu().data.numpy()\n",
    "    y_label = y[0].cpu().data.numpy()\n",
    "    # print(batch)\n",
    "    for i in range(length):\n",
    "        Y_score[i][batch] = y_score[i]\n",
    "        Y_label[i][batch] = y_label[i]\n",
    "fpr = dict()\n",
    "tpr = dict()\n",
    "roc_auc = dict()\n",
    "aver_auc = np.zeros(n_classes)\n",
    "for t in range(length):\n",
    "    for i in range(n_classes):\n",
    "        fpr[i], tpr[i], _ = roc_curve(Y_label[t][:, i], Y_score[t][:, i])\n",
    "        roc_auc[i] = auc(fpr[i], tpr[i])\n",
    "        # aver_auc[i] += auc(fpr[i], tpr[i])\n",
    "        aver_auc[i] += roc_auc[i]/length\n",
    "    print('step %s AUC ='%(t+1),roc_auc) \n",
    "print('Average AUC =', aver_auc)"
   ]
  },
  {
   "cell_type": "code",
   "execution_count": 54,
   "metadata": {},
   "outputs": [],
   "source": [
    "# aver_acc = np.zeros(length)\n",
    "# for batch, data in enumerate(data_test_loader):   \n",
    "# # for batch, data in enumerate(data_full_loader):\n",
    "# # for x,y in data_train_loader:\n",
    "#     x, y = data\n",
    "#     # print(x)\n",
    "#     # prediction =net(x)\n",
    "#     test = gru(x)\n",
    "#     # print(test)\n",
    "#     # print(y)\n",
    "#     a = torch.argmax(test,dim = 2).cpu().data.numpy()\n",
    "#     b = torch.argmax(y,dim = 2).cpu().data.numpy()\n",
    "#     # print('-----------')\n",
    "#     # print('predict =',a.T[0])\n",
    "#     # print('true =',b[0])\n",
    "#     for i in range(length):\n",
    "#         aver_acc[i] += a.T[0][i]==b[0][i]\n",
    "# aver_acc /= batch\n",
    "# print('step acc =', aver_acc)\n",
    "# print('aver acc =', sum(aver_acc)/length)\n"
   ]
  },
  {
   "cell_type": "code",
   "execution_count": 55,
   "metadata": {},
   "outputs": [
    {
     "name": "stdout",
     "output_type": "stream",
     "text": [
      "Step 1: F1 = 0.5862 Precision = 0.5863 Recall = 0.5862\n"
     ]
    }
   ],
   "source": [
    "from sklearn.metrics import f1_score, precision_score, recall_score\n",
    "\n",
    "\n",
    "\n",
    "# print(y_pred)\n",
    "# print(y_true)\n",
    "for i in range(length):\n",
    "    y_true = np.argmax(Y_label[i],axis = 1)\n",
    "    y_pred = np.argmax(Y_score[i],axis = 1)\n",
    "    f1 = round(f1_score(y_true, y_pred, average='macro' ),4)\n",
    "    p = round(precision_score(y_true, y_pred, average='macro'),4)\n",
    "    r = round(recall_score(y_true, y_pred, average='macro'),4)\n",
    "\n",
    "    print('Step %s:'%(i+1),'F1 =', f1, 'Precision =', p, 'Recall =', r)\n"
   ]
  }
 ],
 "metadata": {
  "kernelspec": {
   "display_name": "Python 3",
   "language": "python",
   "name": "python3"
  },
  "language_info": {
   "codemirror_mode": {
    "name": "ipython",
    "version": 3
   },
   "file_extension": ".py",
   "mimetype": "text/x-python",
   "name": "python",
   "nbconvert_exporter": "python",
   "pygments_lexer": "ipython3",
   "version": "3.10.11"
  },
  "orig_nbformat": 4
 },
 "nbformat": 4,
 "nbformat_minor": 2
}
